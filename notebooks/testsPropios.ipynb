{
 "cells": [
  {
   "cell_type": "code",
   "execution_count": 9,
   "metadata": {},
   "outputs": [
    {
     "name": "stdout",
     "output_type": "stream",
     "text": [
      "rm -f *.o ejec\n",
      "g++ *.cpp -o ejec \n",
      "\u001b[1;30mDone!!\u001b[0m\n",
      "\u001b[1;30mRequired: pandas version >1.0.0\u001b[0m\n"
     ]
    }
   ],
   "source": [
    "import pandas as pd\n",
    "import matplotlib.pyplot as plt\n",
    "import seaborn as sns\n",
    "import numpy as np\n",
    "plt.style.use(\"seaborn\")\n",
    "!cd ../src && make clean\n",
    "!cd ../src && make\n",
    "print('\\x1b[1;30m'+ 'Done!!' +'\\x1b[0m')\n",
    "print('\\x1b[1;30m'+ 'Required: pandas version >1.0.0' +'\\x1b[0m')"
   ]
  },
  {
   "cell_type": "markdown",
   "metadata": {},
   "source": [
    "## Levantamos los datos y los procesamos"
   ]
  },
  {
   "cell_type": "code",
   "execution_count": 130,
   "metadata": {},
   "outputs": [
    {
     "data": {
      "text/html": [
       "<div>\n",
       "<style scoped>\n",
       "    .dataframe tbody tr th:only-of-type {\n",
       "        vertical-align: middle;\n",
       "    }\n",
       "\n",
       "    .dataframe tbody tr th {\n",
       "        vertical-align: top;\n",
       "    }\n",
       "\n",
       "    .dataframe thead th {\n",
       "        text-align: right;\n",
       "    }\n",
       "</style>\n",
       "<table border=\"1\" class=\"dataframe\">\n",
       "  <thead>\n",
       "    <tr style=\"text-align: right;\">\n",
       "      <th></th>\n",
       "      <th>cities</th>\n",
       "      <th>bounds</th>\n",
       "    </tr>\n",
       "  </thead>\n",
       "  <tbody>\n",
       "    <tr>\n",
       "      <th>count</th>\n",
       "      <td>75.000000</td>\n",
       "      <td>75.000000</td>\n",
       "    </tr>\n",
       "    <tr>\n",
       "      <th>mean</th>\n",
       "      <td>206.706667</td>\n",
       "      <td>37163.746667</td>\n",
       "    </tr>\n",
       "    <tr>\n",
       "      <th>std</th>\n",
       "      <td>181.665922</td>\n",
       "      <td>51246.516383</td>\n",
       "    </tr>\n",
       "    <tr>\n",
       "      <th>min</th>\n",
       "      <td>14.000000</td>\n",
       "      <td>426.000000</td>\n",
       "    </tr>\n",
       "    <tr>\n",
       "      <th>25%</th>\n",
       "      <td>76.000000</td>\n",
       "      <td>3621.000000</td>\n",
       "    </tr>\n",
       "    <tr>\n",
       "      <th>50%</th>\n",
       "      <td>144.000000</td>\n",
       "      <td>21294.000000</td>\n",
       "    </tr>\n",
       "    <tr>\n",
       "      <th>75%</th>\n",
       "      <td>272.000000</td>\n",
       "      <td>48320.500000</td>\n",
       "    </tr>\n",
       "    <tr>\n",
       "      <th>max</th>\n",
       "      <td>666.000000</td>\n",
       "      <td>294358.000000</td>\n",
       "    </tr>\n",
       "  </tbody>\n",
       "</table>\n",
       "</div>"
      ],
      "text/plain": [
       "           cities         bounds\n",
       "count   75.000000      75.000000\n",
       "mean   206.706667   37163.746667\n",
       "std    181.665922   51246.516383\n",
       "min     14.000000     426.000000\n",
       "25%     76.000000    3621.000000\n",
       "50%    144.000000   21294.000000\n",
       "75%    272.000000   48320.500000\n",
       "max    666.000000  294358.000000"
      ]
     },
     "execution_count": 130,
     "metadata": {},
     "output_type": "execute_result"
    }
   ],
   "source": [
    "df = pd.read_csv(\"../mejores_sol_sin_dobles.csv\")\n",
    "df.sort_values(by=\"cities\",axis=0,ascending=True,inplace=True,ignore_index=True)\n",
    "#df.describe()\n",
    "df[:75].describe()"
   ]
  },
  {
   "cell_type": "markdown",
   "metadata": {},
   "source": [
    "## Declaramos funciones importantes para la experimentación"
   ]
  },
  {
   "cell_type": "code",
   "execution_count": 127,
   "metadata": {},
   "outputs": [],
   "source": [
    "import ast\n",
    "#Llama al binario \"ejec\" con los parámetros pasados, toma filename en vez del path!!!\n",
    "#Retorna una lista donde [0]=cant_vectores [1]=costo_solución [2]=tiempo insumido y [3]=array_camino\n",
    "def llamarbin(mode, instance_name, tam=0, iter=0, percent_vecinos=0):\n",
    "    file=to_path(instance_name)\n",
    "    #print(\"{} {} {} {} {}\".format(mode, file, tam, iter, percent_vecinos))\n",
    "    #Llamo el binario desde la consola y guardo la salida en una variable\n",
    "    output = !../src/ejec {mode} {file} {tam} {iter} {percent_vecinos}\n",
    "    #Voy a devolver una lista donde [0]=cant_vectores [1]=costo_solución y [2]=array_camino\n",
    "    l = ast.literal_eval(output[1])\n",
    "    l = np.array(l, dtype=np.intc)\n",
    "    man_out = output[0].split(' ', 2)\n",
    "    man_out.append(l)\n",
    "    #print(man_out)\n",
    "    return man_out\n",
    "\n",
    "#Transforma el rawname de una instancia a path de archivo\n",
    "def to_path(instancia):\n",
    "    res = \"../data/\" + instancia + \".tsp\"\n",
    "    return res\n",
    "\n",
    "def removeOutliers(x :np.ndarray, outlierConstant=1.5):\n",
    "    a = x\n",
    "    upper_quartile = np.percentile(a, 75)\n",
    "    lower_quartile = np.percentile(a, 25)\n",
    "    IQR = (upper_quartile - lower_quartile) * outlierConstant\n",
    "    quartileSet = (lower_quartile - IQR, upper_quartile + IQR)\n",
    "    \n",
    "    indexes = np.where((a >= quartileSet[0]) & (a <= quartileSet[1]))\n",
    "    result = a[indexes]\n",
    "    \n",
    "    return [result,indexes]\n",
    "\n",
    "#Corre el binario para la lista de conjuntos de instancias instance_list, cada una con los modos de la lista de modos,\n",
    "#para las primeras :size instancias de cada conjunto de instancias, y devuelve una lista de porcentajes de la solucion\n",
    "#óptima que representa la diferencia en cada solucion (no devuelve directamente el costo de la \n",
    "#solucion obtenida por cada corrida) \n",
    "def correrbinvarios(modos, instance_list, bounds_list, size):\n",
    "    resultados = []\n",
    "    for j in range(len(modos)):\n",
    "        lista = instance_list[j]\n",
    "        bounds = bounds_list[j]\n",
    "        mode = modos[j]\n",
    "\n",
    "        costos_modo = np.empty(size)\n",
    "        for i in range(size):\n",
    "            print(i)\n",
    "            res = llamarbin(mode,lista[i])\n",
    "            #print(res)\n",
    "            costos_modo[i]= res[1]\n",
    "            #print(res[1])\n",
    "            #print(\"modo \",mode,lista[i],\": \",res[1])\n",
    "            #print(\"bound:\",bounds[i])\n",
    "        #print(costos_modo)\n",
    "        #print(bounds_list)\n",
    "        #print(size)\n",
    "        #print(bounds[:size])\n",
    "        diff_costos= (costos_modo - bounds[:size])*100/(bounds[:size])\n",
    "        #print(diff_costos)\n",
    "        #print(removeOutliers(diff_costos)[1])\n",
    "        resultados.append(diff_costos)\n",
    "    #print(\"Soy resultados: \",resultados)\n",
    "    return resultados\n",
    "\n",
    "def correrbinconjunto(mode, lista, size, args):\n",
    "    #print(\"{} {} {} {}\".format(mode,size,args,lista))\n",
    "    bounds = np.empty(size)\n",
    "    costos_modo = np.empty(size)\n",
    "    for i in range(size):\n",
    "        res = llamarbin(mode,lista[i],args[0],args[1],args[2])\n",
    "        costos_modo[i]= res[1]\n",
    "        #print(lista[i],\": \",res[1])\n",
    "    #diff_costos= (bounds-costos_modo)*100/(bounds)\n",
    "    return costos_modo"
   ]
  },
  {
   "cell_type": "markdown",
   "metadata": {},
   "source": [
    "# Comparación general de la calidad de solución de las heurísticas\n",
    "### Para instancias sin características particulares, tomadas de las instancias de la cátedra"
   ]
  },
  {
   "cell_type": "code",
   "execution_count": 228,
   "metadata": {},
   "outputs": [
    {
     "name": "stdout",
     "output_type": "stream",
     "text": [
      "Generadas las instancias random para el exp de comparación\n"
     ]
    }
   ],
   "source": [
    "#Generamos las instancias para este test\n",
    "!cd ../data/dataGenerada && rm -rf ./*\n",
    "!cd ../data/dataGenerada\n",
    "!../src/ejec Random 50 100 1 30\n",
    "comp_random = !cd ../data/dataGenerada && ls *.tsp\n",
    "comp_random = [\"dataGenerada/\" + s[:-4] for s in comp_random]\n",
    "print(\"Generadas las instancias random para el exp de comparación\")"
   ]
  },
  {
   "cell_type": "code",
   "execution_count": 229,
   "metadata": {},
   "outputs": [
    {
     "name": "stdout",
     "output_type": "stream",
     "text": [
      "Calculados los mínimos valores conocidos\n"
     ]
    }
   ],
   "source": [
    "instance_list = comp_random\n",
    "#bounds_list = [euc_bounds_list_2, no_euc_bounds_list]\n",
    "cant_instancias_a_usar = 30\n",
    "\n",
    "bounds_list_comp = []\n",
    "for i in range(5):\n",
    "    bounds = []\n",
    "    bounds.append(correrbinconjunto(\"NN\", instance_list, cant_instancias_a_usar, [0,0,0]))\n",
    "    if(i==0):\n",
    "        bounds_list_comp.append(bounds[0])\n",
    "    else:\n",
    "        #print(\"Blist : \",bounds_list_comp)\n",
    "        #print(\"Bounds: \",bounds)\n",
    "        bounds_list_comp[0] = np.minimum(bounds_list_comp[0],bounds[0])\n",
    "bounds_list_comp = bounds_list_comp[0]\n",
    "bounds_list_comp = [bounds_list_comp,bounds_list_comp,bounds_list_comp]\n",
    "print(\"Calculados los mínimos valores conocidos\")"
   ]
  },
  {
   "cell_type": "code",
   "execution_count": 254,
   "metadata": {},
   "outputs": [
    {
     "name": "stdout",
     "output_type": "stream",
     "text": [
      "[291.14754098 320.34482759 277.59562842 303.97790055 298.39572193]\n",
      "[array([291.14754098, 320.34482759, 277.59562842, 303.97790055,\n",
      "       298.39572193]), array([ -2.29508197,  -2.4137931 , -26.66666667,   1.87845304,\n",
      "        -1.28342246]), array([12.34972678,  8.73563218, 11.69398907, 12.37569061,  4.81283422])]\n"
     ]
    }
   ],
   "source": [
    "instance_list_comp = [comp_random,comp_random,comp_random]\n",
    "cant_instancias_a_usar = 30\n",
    "modos = [\"AGM\",\"AMC\",\"NN\"]\n",
    "\n",
    "costs_comp = []\n",
    "\n",
    "promedios = [[],[],[]]\n",
    "for i in range(5):\n",
    "    corridas = []\n",
    "    corridas = correrbinvarios(modos, instance_list_comp, bounds_list_comp, cant_instancias_a_usar)\n",
    "    #corridas = np.mean(corridas,axis=1)\n",
    "    promedios[0].append(corridas[0])\n",
    "    promedios[1].append(corridas[1])\n",
    "    promedios[2].append(corridas[2])\n",
    "print(np.mean(promedios[0], axis=0))\n",
    "costs_comp.append(np.mean(promedios[0], axis=0))\n",
    "costs_comp.append(np.mean(promedios[1], axis=0))\n",
    "costs_comp.append(np.mean(promedios[2], axis=0))\n",
    "\n",
    "#for i in range(len(costs)):\n",
    "#    costs_comp[i] = removeOutliers(costs[i])[0]\n",
    "    \n",
    "print(costs_comp)"
   ]
  },
  {
   "cell_type": "code",
   "execution_count": 255,
   "metadata": {},
   "outputs": [
    {
     "data": {
      "image/png": "[encoded data removed]",
      "text/plain": [
       "<Figure size 640x480 with 1 Axes>"
      ]
     },
     "metadata": {
      "needs_background": "light"
     },
     "output_type": "display_data"
    }
   ],
   "source": [
    "fig,ax=plt.subplots(1,1,figsize=(8,6),dpi=80)\n",
    "ax.boxplot(costs_comp)\n",
    "#ponerle legend y xticks y todo eso\n",
    "locs,_ = plt.xticks()\n",
    "plt.xticks(locs,modos)\n",
    "plt.ylabel(\"Porcentaje (%) distancia a óptimo\")\n",
    "plt.title(\"Calidad de las soluciones en grafos generales\");\n",
    "fig.savefig(\"./graficos/calidad_comparacion.png\")"
   ]
  },
  {
   "cell_type": "markdown",
   "metadata": {},
   "source": [
    "# 1) AGM\n",
    "## a) Calidad soluciones en grafos euclidianos vs no euclidianos"
   ]
  },
  {
   "cell_type": "code",
   "execution_count": 45,
   "metadata": {},
   "outputs": [
    {
     "name": "stdout",
     "output_type": "stream",
     "text": [
      "Cant. instancias euclideanas: 78, cant. instancias no euclideanas: 31\n"
     ]
    }
   ],
   "source": [
    "print(\"Cant. instancias euclideanas: {}, cant. instancias no euclideanas: {}\".format(len(euc_list), len(no_euc_list)))"
   ]
  },
  {
   "cell_type": "code",
   "execution_count": 98,
   "metadata": {},
   "outputs": [
    {
     "name": "stdout",
     "output_type": "stream",
     "text": [
      "Generadas las instancias no euclideas para AGM\n"
     ]
    }
   ],
   "source": [
    "#Generamos las instancias para este test\n",
    "!cd ../data/dataGenerada && rm -rf ./*\n",
    "!cd ../data/dataGenerada && mkdir euc && mkdir no_euc\n",
    "!../src/ejec Random 50 100 1 30\n",
    "agm_no_euc = !cd ../data/dataGenerada && ls *.tsp\n",
    "!cd ../data/dataGenerada && mv ./*.tsp ./no_euc\n",
    "agm_no_euc = [\"dataGenerada/no_euc/\" + s[:-4] for s in agm_no_euc]\n",
    "print(\"Generadas las instancias no euclideas para AGM\")"
   ]
  },
  {
   "cell_type": "code",
   "execution_count": 99,
   "metadata": {},
   "outputs": [
    {
     "name": "stdout",
     "output_type": "stream",
     "text": [
      "mkdir: cannot create directory ‘data’: File exists\n",
      "Generadas las instancias euclideas para AGM\n"
     ]
    }
   ],
   "source": [
    "#RandomEuclideo randomEuclideo(stoi(cantidadArchivos), stoi(cantidadVertices), stoi(nStart), stoi(nEnd));\n",
    "#Generamos las instancias para este test\n",
    "!../src/ejec RandomEuclideo 50 100 1 30\n",
    "#agm_euc = !cd ../download_data/temp && ls *.tsp\n",
    "#!../2_parsear_instancias_euclidianas_propias.sh\n",
    "agm_euc = !cd ../data/dataGenerada/euc && ls *.tsp\n",
    "agm_euc = [\"dataGenerada/euc/\" + s[:-4] for s in agm_euc]\n",
    "print(\"Generadas las instancias euclideas para AGM\")"
   ]
  },
  {
   "cell_type": "code",
   "execution_count": 125,
   "metadata": {
    "scrolled": false
   },
   "outputs": [
    {
     "name": "stdout",
     "output_type": "stream",
     "text": [
      "Calculados los mínimos valores conocidos\n",
      "[array([13.18681319, 17.24907063, 14.7985348 ]), array([242.24719101, 252.10526316, 257.65957447, 318.75706215,\n",
      "       232.05882353])]\n"
     ]
    },
    {
     "data": {
      "text/plain": [
       "<Figure size 640x480 with 0 Axes>"
      ]
     },
     "metadata": {},
     "output_type": "display_data"
    },
    {
     "data": {
      "image/png": "[encoded data removed]",
      "text/plain": [
       "<Figure size 432x288 with 1 Axes>"
      ]
     },
     "metadata": {
      "needs_background": "light"
     },
     "output_type": "display_data"
    }
   ],
   "source": [
    "#modos = [\"AGM\",\"AMC\",\"NN\",\"TSU\",\"TSA\"]\n",
    "modos = [\"NN\",\"NN\",\"AGM\",\"AGM\"]\n",
    "costs = []\n",
    "fig=plt.figure(figsize=(8, 6), dpi=80)\n",
    "fig, ax = plt.subplots()\n",
    "\n",
    "#euc_list_2 = np.concatenate((euc_list[:10],euc_list[40:]))\n",
    "#euc_bounds_list_2 = np.concatenate((euc_bounds_list[:10], euc_bounds_list[40:]))\n",
    "#euc_size_list_2 = np.concatenate((euc_size_list[:10], euc_size_list[40:]))\n",
    "\n",
    "instance_list = [agm_euc, agm_no_euc]\n",
    "#bounds_list = [euc_bounds_list_2, no_euc_bounds_list]\n",
    "cant_instancias_a_usar = 50\n",
    "\n",
    "bounds_list = []\n",
    "for i in range(5):\n",
    "    bounds = []\n",
    "    bounds.append(correrbinconjunto(modos[0], instance_list[0], cant_instancias_a_usar, [0,0,0]))\n",
    "    bounds.append(correrbinconjunto(modos[0], instance_list[1], cant_instancias_a_usar, [0,0,0]))\n",
    "    if(i==0):\n",
    "        bounds_list.append(bounds[0])\n",
    "        bounds_list.append(bounds[1])\n",
    "    else:\n",
    "        #print(bounds)\n",
    "        #print(bounds_list)\n",
    "        bounds_list[0] = np.minimum(bounds_list[0],bounds[0])\n",
    "        bounds_list[1] = np.minimum(bounds_list[1],bounds[1])\n",
    "print(\"Calculados los mínimos valores conocidos\")\n",
    "\n",
    "promedios = [[],[]]\n",
    "error = []\n",
    "for i in range(5):\n",
    "    corridasNN = []\n",
    "    correrbinvarios(corridasNN, modos[2:], instance_list, bounds_list, cant_instancias_a_usar)\n",
    "    promedios[0].append(corridasNN[0])\n",
    "    promedios[1].append(corridasNN[1])\n",
    "\n",
    "costs.append(np.mean(promedios[0], axis=0))\n",
    "costs.append(np.mean(promedios[1], axis=0))\n",
    "\n",
    "for i in range(len(costs)):\n",
    "    costs[i] = removeOutliers(costs[i])[0]\n",
    "    \n",
    "print(costs)\n",
    "ax.boxplot(costs)\n",
    "#ponerle legend y xticks y todo eso\n",
    "locs,_ = plt.xticks()\n",
    "plt.xticks(locs,[\"Euclidianas\\n(AGM)\", \"No Euclidianas\\n(AGM)\",\"Euclidianas\\n(NN)\", \"No Euclidianas\\n(NN)\"])\n",
    "plt.ylabel(\"Porcentaje (%)\")\n",
    "plt.title(\"Calidad de las soluciones en grafos Euclideanos vs no Euclideanos\");\n",
    "fig.savefig(\"./graficos/calidad_euclideano.png\")"
   ]
  },
  {
   "cell_type": "markdown",
   "metadata": {},
   "source": [
    "# Casos patológicos AMC y NN\n",
    "### Generamos las instancias:"
   ]
  },
  {
   "cell_type": "code",
   "execution_count": 87,
   "metadata": {},
   "outputs": [
    {
     "name": "stdout",
     "output_type": "stream",
     "text": [
      "mkdir: cannot create directory ‘../data/dataGenerada’: File exists\n",
      "mkdir: cannot create directory ‘../data/dataGenerada’: File exists\n",
      "mkdir: cannot create directory ‘../data/dataGenerada’: File exists\n",
      "mkdir: cannot create directory ‘../data/dataGenerada’: File exists\n",
      "mkdir: cannot create directory ‘../data/dataGenerada’: File exists\n",
      "mkdir: cannot create directory ‘../data/dataGenerada’: File exists\n",
      "mkdir: cannot create directory ‘../data/dataGenerada’: File exists\n",
      "mkdir: cannot create directory ‘../data/dataGenerada’: File exists\n",
      "mkdir: cannot create directory ‘../data/dataGenerada’: File exists\n",
      "mkdir: cannot create directory ‘../data/dataGenerada’: File exists\n",
      "mkdir: cannot create directory ‘../data/dataGenerada’: File exists\n",
      "mkdir: cannot create directory ‘../data/dataGenerada’: File exists\n",
      "mkdir: cannot create directory ‘../data/dataGenerada’: File exists\n",
      "mkdir: cannot create directory ‘../data/dataGenerada’: File exists\n",
      "mkdir: cannot create directory ‘../data/dataGenerada’: File exists\n",
      "mkdir: cannot create directory ‘../data/dataGenerada’: File exists\n",
      "mkdir: cannot create directory ‘../data/dataGenerada’: File exists\n",
      "mkdir: cannot create directory ‘../data/dataGenerada’: File exists\n",
      "mkdir: cannot create directory ‘../data/dataGenerada’: File exists\n",
      "mkdir: cannot create directory ‘../data/dataGenerada’: File exists\n",
      "mkdir: cannot create directory ‘../data/dataGenerada’: File exists\n",
      "mkdir: cannot create directory ‘../data/dataGenerada’: File exists\n",
      "mkdir: cannot create directory ‘../data/dataGenerada’: File exists\n",
      "mkdir: cannot create directory ‘../data/dataGenerada’: File exists\n",
      "mkdir: cannot create directory ‘../data/dataGenerada’: File exists\n",
      "mkdir: cannot create directory ‘../data/dataGenerada’: File exists\n",
      "mkdir: cannot create directory ‘../data/dataGenerada’: File exists\n",
      "mkdir: cannot create directory ‘../data/dataGenerada’: File exists\n",
      "mkdir: cannot create directory ‘../data/dataGenerada’: File exists\n",
      "mkdir: cannot create directory ‘../data/dataGenerada’: File exists\n",
      "Generadas las instancias patologicas para AMC\n"
     ]
    }
   ],
   "source": [
    "#Generamos las instancias para este test\n",
    "!cd ../data/dataGenerada && rm -rf ./*\n",
    "for i in range(1,31):\n",
    "    number = str(i*5)\n",
    "    !../src/ejec RandomNN 1 {number}\n",
    "amc = !cd ../data/dataGenerada && ls\n",
    "amc = [\"dataGenerada/\" + s[:-4] for s in amc]\n",
    "\n",
    "print(\"Generadas las instancias patologicas para AMC\")"
   ]
  },
  {
   "cell_type": "code",
   "execution_count": 88,
   "metadata": {},
   "outputs": [
    {
     "name": "stdout",
     "output_type": "stream",
     "text": [
      "Calculados los mínimos valores conocidos\n"
     ]
    }
   ],
   "source": [
    "instance_list = amc\n",
    "#bounds_list = [euc_bounds_list_2, no_euc_bounds_list]\n",
    "cant_instancias_a_usar = 30\n",
    "\n",
    "bounds_list_worst = []\n",
    "for i in range(5):\n",
    "    bounds = []\n",
    "    bounds.append(correrbinconjunto(\"Falsa\", instance_list, cant_instancias_a_usar, [0,0,0]))\n",
    "    if(i==0):\n",
    "        bounds_list_worst.append(bounds[0])\n",
    "    else:\n",
    "        #print(\"Blist : \",bounds_list_worst)\n",
    "        #print(\"Bounds: \",bounds)\n",
    "        bounds_list_worst[0] = np.minimum(bounds_list_worst[0],bounds[0])\n",
    "bounds_list_worst = bounds_list_worst[0]\n",
    "bounds_list_worst = [bounds_list_worst]\n",
    "print(\"Calculados los mínimos valores conocidos\")"
   ]
  },
  {
   "cell_type": "markdown",
   "metadata": {},
   "source": [
    "## AMC"
   ]
  },
  {
   "cell_type": "code",
   "execution_count": 122,
   "metadata": {
    "scrolled": true
   },
   "outputs": [
    {
     "name": "stdout",
     "output_type": "stream",
     "text": [
      "Corrida: 0\n",
      "0\n",
      "1\n",
      "2\n",
      "3\n",
      "4\n",
      "5\n",
      "6\n",
      "7\n",
      "8\n",
      "9\n",
      "10\n",
      "11\n",
      "12\n",
      "13\n",
      "14\n",
      "15\n",
      "16\n",
      "17\n",
      "18\n",
      "19\n",
      "20\n",
      "21\n",
      "22\n",
      "23\n",
      "24\n",
      "25\n",
      "26\n",
      "27\n",
      "28\n",
      "29\n",
      "Corrida: 1\n",
      "0\n",
      "1\n",
      "2\n",
      "3\n",
      "4\n",
      "5\n",
      "6\n",
      "7\n",
      "8\n",
      "9\n",
      "10\n",
      "11\n",
      "12\n",
      "13\n",
      "14\n",
      "15\n",
      "16\n",
      "17\n",
      "18\n",
      "19\n",
      "20\n",
      "21\n",
      "22\n",
      "23\n",
      "24\n",
      "25\n",
      "26\n",
      "27\n",
      "28\n",
      "29\n",
      "Corrida: 2\n",
      "0\n",
      "1\n",
      "2\n",
      "3\n",
      "4\n",
      "5\n",
      "6\n",
      "7\n",
      "8\n",
      "9\n",
      "10\n",
      "11\n",
      "12\n",
      "13\n",
      "14\n",
      "15\n",
      "16\n",
      "17\n",
      "18\n",
      "19\n",
      "20\n",
      "21\n",
      "22\n",
      "23\n",
      "24\n",
      "25\n",
      "26\n",
      "27\n",
      "28\n",
      "29\n",
      "Corrida: 3\n",
      "0\n",
      "1\n",
      "2\n",
      "3\n",
      "4\n",
      "5\n",
      "6\n",
      "7\n",
      "8\n",
      "9\n",
      "10\n",
      "11\n",
      "12\n",
      "13\n",
      "14\n",
      "15\n",
      "16\n",
      "17\n",
      "18\n",
      "19\n",
      "20\n",
      "21\n",
      "22\n",
      "23\n",
      "24\n",
      "25\n",
      "26\n",
      "27\n",
      "28\n",
      "29\n",
      "Corrida: 4\n",
      "0\n",
      "1\n",
      "2\n",
      "3\n",
      "4\n",
      "5\n",
      "6\n",
      "7\n",
      "8\n",
      "9\n",
      "10\n",
      "11\n",
      "12\n",
      "13\n",
      "14\n",
      "15\n",
      "16\n",
      "17\n",
      "18\n",
      "19\n",
      "20\n",
      "21\n",
      "22\n",
      "23\n",
      "24\n",
      "25\n",
      "26\n",
      "27\n",
      "28\n",
      "29\n",
      "[array([166.66666667, 199.65698144, 199.68898646, 199.71671388,\n",
      "       199.74089316, 199.76210467, 199.78081485, 199.79740198,\n",
      "       199.81217545, 199.8253903 , 199.83725828, 184.68468468,\n",
      "       199.84795635, 191.32653061, 194.44444444, 196.14512472,\n",
      "       197.17138103, 197.83715013, 198.29317269,  93.75      ,\n",
      "       198.61900894, 198.85982562, 199.04279279, 199.18504314,\n",
      "       199.29781082, 199.3887091 , 199.46304485, 199.5246085 ,\n",
      "       199.57616554, 199.61977186])]\n"
     ]
    }
   ],
   "source": [
    "instance_list_worst = [amc]\n",
    "cant_instancias_a_usar = 30\n",
    "modos = [\"AMC\"]\n",
    "cantCorridas = 5\n",
    "costs_worst = []\n",
    "tamanios_worst = list(range(0,151,5)) \n",
    "promedios = [[]]\n",
    "for i in range(cantCorridas):\n",
    "    print(\"Corrida:\",i)\n",
    "    corridas = []\n",
    "    corridas = correrbinvarios(modos, instance_list_worst, bounds_list_worst, cant_instancias_a_usar)\n",
    "    #corridas = np.mean(corridas,axis=1)\n",
    "    promedios[0].append(corridas[0])\n",
    "    #promedios[1].append(corridas[1])\n",
    "    \n",
    "#print(np.mean(promedios[0], axis=0))\n",
    "costs_worst.append(np.mean(promedios[0], axis=0))\n",
    "#costs_worst.append(np.mean(promedios[1], axis=0))\n",
    "\n",
    "#for i in range(len(costs_worst)):\n",
    "prom_worst = np.mean(costs_worst,axis=0)\n",
    "err_worst = np.std(costs_worst,axis=0)\n",
    "\n",
    "#for i in range(len(costs)):\n",
    "#    costs_worst[i] = removeOutliers(costs[i])[0]\n",
    "    \n",
    "print(costs_worst)"
   ]
  },
  {
   "cell_type": "code",
   "execution_count": 123,
   "metadata": {
    "scrolled": true
   },
   "outputs": [
    {
     "name": "stdout",
     "output_type": "stream",
     "text": [
      "[0, 5, 10, 15, 20, 25, 30, 35, 40, 45, 50, 55, 60, 65, 70, 75, 80, 85, 90, 95, 100, 105, 110, 115, 120, 125, 130, 135, 140, 145]\n",
      "[166.66666667 199.65698144 199.68898646 199.71671388 199.74089316\n",
      " 199.76210467 199.78081485 199.79740198 199.81217545 199.8253903\n",
      " 199.83725828 184.68468468 199.84795635 191.32653061 194.44444444\n",
      " 196.14512472 197.17138103 197.83715013 198.29317269  93.75\n",
      " 198.61900894 198.85982562 199.04279279 199.18504314 199.29781082\n",
      " 199.3887091  199.46304485 199.5246085  199.57616554 199.61977186]\n",
      "[0. 0. 0. 0. 0. 0. 0. 0. 0. 0. 0. 0. 0. 0. 0. 0. 0. 0. 0. 0. 0. 0. 0. 0.\n",
      " 0. 0. 0. 0. 0. 0.]\n"
     ]
    }
   ],
   "source": [
    "print(tam_g)\n",
    "print(prom_worst)\n",
    "print(err_worst)"
   ]
  },
  {
   "cell_type": "code",
   "execution_count": 124,
   "metadata": {
    "scrolled": true
   },
   "outputs": [
    {
     "name": "stdout",
     "output_type": "stream",
     "text": [
      "[0, 5, 10, 15, 20, 25, 30, 35, 40, 45, 50, 55, 60, 65, 70, 75, 80, 85, 90, 95, 100, 105, 110, 115, 120, 125, 130, 135, 140, 145]\n",
      "[166.66666667 199.65698144 199.68898646 199.71671388 199.74089316\n",
      " 199.76210467 199.78081485 199.79740198 199.81217545 199.8253903\n",
      " 199.83725828 184.68468468 199.84795635 191.32653061 194.44444444\n",
      " 196.14512472 197.17138103 197.83715013 198.29317269  93.75\n",
      " 198.61900894 198.85982562 199.04279279 199.18504314 199.29781082\n",
      " 199.3887091  199.46304485 199.5246085  199.57616554 199.61977186]\n",
      "[0. 0. 0. 0. 0. 0. 0. 0. 0. 0. 0. 0. 0. 0. 0. 0. 0. 0. 0. 0. 0. 0. 0. 0.\n",
      " 0. 0. 0. 0. 0. 0.]\n"
     ]
    },
    {
     "data": {
      "image/png": "[encoded data removed]",
      "text/plain": [
       "<Figure size 960x640 with 1 Axes>"
      ]
     },
     "metadata": {
      "needs_background": "light"
     },
     "output_type": "display_data"
    }
   ],
   "source": [
    "#print(calidadPorTamanio)\n",
    "#err_worst_2 = [err_worst[i]/np.sqrt(np.shape(promedios[i]))[0] for i in range(len(err_worst))]\n",
    "\n",
    "fig,(ax1)=plt.subplots(1,1,figsize=(12, 8), dpi=80)\n",
    "tam_g = tamanios_worst[:30]\n",
    "pro_g = prom_worst\n",
    "err_g = err_worst\n",
    "\n",
    "print(tam_g)\n",
    "print(pro_g)\n",
    "print(err_g)\n",
    "\n",
    "plt.xticks(tam_g)\n",
    "plt.ylabel(\"Porcentaje (%) distancia a óptimo\")\n",
    "plt.xlabel(\"Tamaño de las instancias\")\n",
    "plt.title(\"Calidad de la solución en función del tamaño para peor caso \"+modos[0]);\n",
    "_,caps,bars = ax1.errorbar(tam_g,pro_g,yerr=err_g)\n",
    "[bar.set_alpha(0.5) for bar in bars]\n",
    "\n",
    "# use them in the legend\n",
    "ax1.legend([\"Promedio de {} corridas \\ncon error estándar\".format(cantCorridas)])\n",
    "\n",
    "fig.savefig(\"./graficos/worstCase\"+str(modos[0])+\".png\")"
   ]
  },
  {
   "cell_type": "markdown",
   "metadata": {},
   "source": [
    "## NN"
   ]
  },
  {
   "cell_type": "code",
   "execution_count": 122,
   "metadata": {
    "scrolled": true
   },
   "outputs": [
    {
     "name": "stdout",
     "output_type": "stream",
     "text": [
      "Corrida: 0\n",
      "0\n",
      "1\n",
      "2\n",
      "3\n",
      "4\n",
      "5\n",
      "6\n",
      "7\n",
      "8\n",
      "9\n",
      "10\n",
      "11\n",
      "12\n",
      "13\n",
      "14\n",
      "15\n",
      "16\n",
      "17\n",
      "18\n",
      "19\n",
      "20\n",
      "21\n",
      "22\n",
      "23\n",
      "24\n",
      "25\n",
      "26\n",
      "27\n",
      "28\n",
      "29\n",
      "Corrida: 1\n",
      "0\n",
      "1\n",
      "2\n",
      "3\n",
      "4\n",
      "5\n",
      "6\n",
      "7\n",
      "8\n",
      "9\n",
      "10\n",
      "11\n",
      "12\n",
      "13\n",
      "14\n",
      "15\n",
      "16\n",
      "17\n",
      "18\n",
      "19\n",
      "20\n",
      "21\n",
      "22\n",
      "23\n",
      "24\n",
      "25\n",
      "26\n",
      "27\n",
      "28\n",
      "29\n",
      "Corrida: 2\n",
      "0\n",
      "1\n",
      "2\n",
      "3\n",
      "4\n",
      "5\n",
      "6\n",
      "7\n",
      "8\n",
      "9\n",
      "10\n",
      "11\n",
      "12\n",
      "13\n",
      "14\n",
      "15\n",
      "16\n",
      "17\n",
      "18\n",
      "19\n",
      "20\n",
      "21\n",
      "22\n",
      "23\n",
      "24\n",
      "25\n",
      "26\n",
      "27\n",
      "28\n",
      "29\n",
      "Corrida: 3\n",
      "0\n",
      "1\n",
      "2\n",
      "3\n",
      "4\n",
      "5\n",
      "6\n",
      "7\n",
      "8\n",
      "9\n",
      "10\n",
      "11\n",
      "12\n",
      "13\n",
      "14\n",
      "15\n",
      "16\n",
      "17\n",
      "18\n",
      "19\n",
      "20\n",
      "21\n",
      "22\n",
      "23\n",
      "24\n",
      "25\n",
      "26\n",
      "27\n",
      "28\n",
      "29\n",
      "Corrida: 4\n",
      "0\n",
      "1\n",
      "2\n",
      "3\n",
      "4\n",
      "5\n",
      "6\n",
      "7\n",
      "8\n",
      "9\n",
      "10\n",
      "11\n",
      "12\n",
      "13\n",
      "14\n",
      "15\n",
      "16\n",
      "17\n",
      "18\n",
      "19\n",
      "20\n",
      "21\n",
      "22\n",
      "23\n",
      "24\n",
      "25\n",
      "26\n",
      "27\n",
      "28\n",
      "29\n",
      "[array([166.66666667, 199.65698144, 199.68898646, 199.71671388,\n",
      "       199.74089316, 199.76210467, 199.78081485, 199.79740198,\n",
      "       199.81217545, 199.8253903 , 199.83725828, 184.68468468,\n",
      "       199.84795635, 191.32653061, 194.44444444, 196.14512472,\n",
      "       197.17138103, 197.83715013, 198.29317269,  93.75      ,\n",
      "       198.61900894, 198.85982562, 199.04279279, 199.18504314,\n",
      "       199.29781082, 199.3887091 , 199.46304485, 199.5246085 ,\n",
      "       199.57616554, 199.61977186])]\n"
     ]
    }
   ],
   "source": [
    "instance_list_worst = [amc]\n",
    "cant_instancias_a_usar = 30\n",
    "modos = [\"NN\"]\n",
    "cantCorridas = 5\n",
    "costs_worst = []\n",
    "tamanios_worst = list(range(0,151,5)) \n",
    "promedios = [[]]\n",
    "for i in range(cantCorridas):\n",
    "    print(\"Corrida:\",i)\n",
    "    corridas = []\n",
    "    corridas = correrbinvarios(modos, instance_list_worst, bounds_list_worst, cant_instancias_a_usar)\n",
    "    #corridas = np.mean(corridas,axis=1)\n",
    "    promedios[0].append(corridas[0])\n",
    "    #promedios[1].append(corridas[1])\n",
    "    \n",
    "#print(np.mean(promedios[0], axis=0))\n",
    "costs_worst.append(np.mean(promedios[0], axis=0))\n",
    "#costs_worst.append(np.mean(promedios[1], axis=0))\n",
    "\n",
    "#for i in range(len(costs_worst)):\n",
    "prom_worst = np.mean(costs_worst,axis=0)\n",
    "err_worst = np.std(costs_worst,axis=0)\n",
    "\n",
    "#for i in range(len(costs)):\n",
    "#    costs_worst[i] = removeOutliers(costs[i])[0]\n",
    "    \n",
    "print(costs_worst)"
   ]
  },
  {
   "cell_type": "code",
   "execution_count": 123,
   "metadata": {
    "scrolled": true
   },
   "outputs": [
    {
     "name": "stdout",
     "output_type": "stream",
     "text": [
      "[0, 5, 10, 15, 20, 25, 30, 35, 40, 45, 50, 55, 60, 65, 70, 75, 80, 85, 90, 95, 100, 105, 110, 115, 120, 125, 130, 135, 140, 145]\n",
      "[166.66666667 199.65698144 199.68898646 199.71671388 199.74089316\n",
      " 199.76210467 199.78081485 199.79740198 199.81217545 199.8253903\n",
      " 199.83725828 184.68468468 199.84795635 191.32653061 194.44444444\n",
      " 196.14512472 197.17138103 197.83715013 198.29317269  93.75\n",
      " 198.61900894 198.85982562 199.04279279 199.18504314 199.29781082\n",
      " 199.3887091  199.46304485 199.5246085  199.57616554 199.61977186]\n",
      "[0. 0. 0. 0. 0. 0. 0. 0. 0. 0. 0. 0. 0. 0. 0. 0. 0. 0. 0. 0. 0. 0. 0. 0.\n",
      " 0. 0. 0. 0. 0. 0.]\n"
     ]
    }
   ],
   "source": [
    "print(tam_g)\n",
    "print(prom_worst)\n",
    "print(err_worst)"
   ]
  },
  {
   "cell_type": "code",
   "execution_count": 124,
   "metadata": {
    "scrolled": false
   },
   "outputs": [
    {
     "name": "stdout",
     "output_type": "stream",
     "text": [
      "[0, 5, 10, 15, 20, 25, 30, 35, 40, 45, 50, 55, 60, 65, 70, 75, 80, 85, 90, 95, 100, 105, 110, 115, 120, 125, 130, 135, 140, 145]\n",
      "[166.66666667 199.65698144 199.68898646 199.71671388 199.74089316\n",
      " 199.76210467 199.78081485 199.79740198 199.81217545 199.8253903\n",
      " 199.83725828 184.68468468 199.84795635 191.32653061 194.44444444\n",
      " 196.14512472 197.17138103 197.83715013 198.29317269  93.75\n",
      " 198.61900894 198.85982562 199.04279279 199.18504314 199.29781082\n",
      " 199.3887091  199.46304485 199.5246085  199.57616554 199.61977186]\n",
      "[0. 0. 0. 0. 0. 0. 0. 0. 0. 0. 0. 0. 0. 0. 0. 0. 0. 0. 0. 0. 0. 0. 0. 0.\n",
      " 0. 0. 0. 0. 0. 0.]\n"
     ]
    },
    {
     "data": {
      "image/png": "[encoded data removed]",
      "text/plain": [
       "<Figure size 960x640 with 1 Axes>"
      ]
     },
     "metadata": {
      "needs_background": "light"
     },
     "output_type": "display_data"
    }
   ],
   "source": [
    "#print(calidadPorTamanio)\n",
    "#err_worst_2 = [err_worst[i]/np.sqrt(np.shape(promedios[i]))[0] for i in range(len(err_worst))]\n",
    "\n",
    "fig,(ax1)=plt.subplots(1,1,figsize=(12, 8), dpi=80)\n",
    "tam_g = tamanios_worst[:30]\n",
    "pro_g = prom_worst\n",
    "err_g = err_worst\n",
    "\n",
    "print(tam_g)\n",
    "print(pro_g)\n",
    "print(err_g)\n",
    "\n",
    "plt.xticks(tam_g)\n",
    "plt.ylabel(\"Porcentaje (%) distancia a óptimo\")\n",
    "plt.xlabel(\"Tamaño de las instancias\")\n",
    "plt.title(\"Calidad de la solución en función del tamaño para peor caso \"+modos[0]);\n",
    "_,caps,bars = ax1.errorbar(tam_g,pro_g,yerr=err_g)\n",
    "[bar.set_alpha(0.5) for bar in bars]\n",
    "\n",
    "# use them in the legend\n",
    "ax1.legend([\"Promedio de {} corridas \\ncon error estándar\".format(cantCorridas)])\n",
    "\n",
    "fig.savefig(\"./graficos/worstCase\"+str(modos[0])+\".png\")"
   ]
  }
 ],
 "metadata": {
  "kernelspec": {
   "display_name": "Python 3",
   "language": "python",
   "name": "python3"
  },
  "language_info": {
   "codemirror_mode": {
    "name": "ipython",
    "version": 3
   },
   "file_extension": ".py",
   "mimetype": "text/x-python",
   "name": "python",
   "nbconvert_exporter": "python",
   "pygments_lexer": "ipython3",
   "version": "3.6.8"
  }
 },
 "nbformat": 4,
 "nbformat_minor": 2
}
